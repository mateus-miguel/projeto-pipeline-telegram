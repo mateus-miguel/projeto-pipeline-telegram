{
 "cells": [
  {
   "cell_type": "markdown",
   "id": "f76acffb",
   "metadata": {
    "papermill": {
     "duration": 0.003732,
     "end_time": "2023-10-18T12:07:08.816366",
     "exception": false,
     "start_time": "2023-10-18T12:07:08.812634",
     "status": "completed"
    },
    "tags": []
   },
   "source": [
    "# Projeto de Pipeline de Dados do Telegram\n",
    "\n",
    "Este projeto visa relacionar o mundo de chatbots em aplicativos como o Telegram com computação em nuvem. No caso, é realizada uma **etapa transacional** para capturar dados da API do Telegram de bots pelo AWS API Gateway, e a partir disto uma **etapa analítica** realizada em nuvem na AWS com três etapas: ingestão, ETL e apresentação. Por fim, no AWS Athena são feitas consultas para estimar quantidade de mensagens por dia no grupo do Telegram, quantidade de mensagens por hora e dia da semana, e média de tamanho das mensagens."
   ]
  },
  {
   "cell_type": "markdown",
   "id": "b9111e12",
   "metadata": {
    "papermill": {
     "duration": 0.003027,
     "end_time": "2023-10-18T12:07:08.824514",
     "exception": false,
     "start_time": "2023-10-18T12:07:08.821487",
     "status": "completed"
    },
    "tags": []
   },
   "source": [
    "# 1. Contexto\n",
    "\n",
    "Cada vez mais aplicativos e sites costumam contar com a presença de *chatbots*. Exemplos são Telegram, WhatsApp, Facebook Messenger, Discord e Microsoft Teams, para nomear alguns. Suas funções são amplas, como atendimento ao cliente, ajuda em compras, agendamentos, entretenimento. \n",
    "\n",
    "<img src='https://github.com/mateus-miguel/projeto-pipeline-telegram/blob/main/imagens/chatbot_img.jpg?raw=true'/>\n",
    "\n",
    "Nesse sentido, torna-se útil armazenar mensagens desses chats em base de dados para serem analisadas. Por exemplo, analisar quais mensagens ou dúvidas são mais frequentes, quais respostas são mais esperadas, qual a média de tamanho das mensagens, quais usuários costumam mandar mais mensagens, em quais grupos, e assim por diante.\n",
    "\n",
    "Em geral, as mensagens são fornecidas por API's para uso externo, e envolvem formatos de dados semi-estruturados como JSON. Para a seleção da parte útil desses dados para consultas de forma estruturada, é preciso realizar um *data wrangling* para colocá-los em formato tabular, além de outros processos para reduzir o custo de escaneamento. Isto pode ser feito por uma arquitetura em nuvem, como na AWS (Amazon Web Services), que permite realizar consultas por SQL ao fim do processo."
   ]
  },
  {
   "cell_type": "markdown",
   "id": "7c4f3049",
   "metadata": {
    "papermill": {
     "duration": 0.002771,
     "end_time": "2023-10-18T12:07:08.830480",
     "exception": false,
     "start_time": "2023-10-18T12:07:08.827709",
     "status": "completed"
    },
    "tags": []
   },
   "source": [
    "# 2. Arquitetura\n",
    "\n",
    "O projeto se divide em duas partes como citado. A primeira é a **parte transacional**, que lida com o grupo do Telegram e a API de bots, já a segunda é a **parte analítica**, que contém as etapas de ingestão, ETL e apresentação.\n",
    "\n",
    "<img src='https://raw.githubusercontent.com/mateus-miguel/projeto-pipeline-telegram/main/imagens/aws_telegram_pipeline_v2.png' width='700'/>\n",
    "\n",
    "A primeira etapa consiste na criação do *bot* do Telegram e sua adição no grupo específico. Nesta etapa, o *bot* vai coletar todas as mensagens mandadas pelos usuários ou si mesmo para a Telegram Bot API, que pode ser \n",
    "\n",
    "Na segunda etapa começamos pela **ingestão**, onde é criado um *webhook* pelo AWS API Gateway de forma a conectar com a Telegram Bot API. Desta forma, toda nova mensagem mandada no grupo é automaticamente mandada para o ambiente em nuvem da AWS. Então as mensagens passam por uma função AWS Lambda que armazena os arquivos em formato JSON original num bucket AWS S3 cru (*raw*).\n",
    "\n",
    "Em seguida, temos a etapa de **ETL** que cria um gatilho no AWS Event Bridge às 00:00 BRT para manipular os dados do *datalake* de arquivos JSON. Aqui, é feito um *data wrangling* para extrair apenas as chaves úteis dos arquivos JSON, e armazenar o conjunto de todos as mensagens num só arquivo diário no formato Apache Parquet. O armazenamento é feito de forma **particionada** por dia, assim como feito na etapa de ingestão, mas agora num Bucket S3 enriquecido (*enriched*). Este formato é **orientado a colunas**, então reduz bastante o custo de escaneamento dos dados.\n",
    "\n",
    "Por fim, é feita a etapa de **apresentação**, na qual outro gatilho do AWS Event Bridge é disparado às 02:00 BRT de forma a reparar a tabela de dados *telegram* com novas partições do *datalake* enriquecido com os arquivos Apache Parquet. Com isto, são feitas consultas SQL de interesse no AWS Athena na tabela particionada, analisando métricas sobre o grupo, usuários e mensagens enviadas."
   ]
  },
  {
   "cell_type": "markdown",
   "id": "fbba4747",
   "metadata": {
    "papermill": {
     "duration": 0.002998,
     "end_time": "2023-10-18T12:07:08.836564",
     "exception": false,
     "start_time": "2023-10-18T12:07:08.833566",
     "status": "completed"
    },
    "tags": []
   },
   "source": [
    "# 3. Análise Exploratória de Dados\n",
    "\n",
    "A Telegram Bot API permite a comunicação de informações de mensagens, usuários e *bots* de um grupo com códigos externos. Existem alguns métodos que podem ser usados no Python para recuperar essas informações em formato JSON. Um deles é o método **getMe** que retorna informações sobre o *bot* do grupo. Já o método **getUpdates** retorna todas as informações com listas das mensagens mandadas em um grupo, disponíveis por até 24 horas. Para o acesso, é necessário um API token relacionado ao *bot*. Isso envolve usar linhas de código do tipo:\n",
    "\n",
    "```\n",
    "import json\n",
    "from getpass import getpass\n",
    "\n",
    "token = getpass()\n",
    "base_url = f'https://api.telegram.org/bot{token}'\n",
    " \n",
    "response = requests.get(url=f'{base_url}/getMe')\n",
    "```\n",
    "\n",
    "onde *token* é o API token do *bot* obtido do Telegram.\n"
   ]
  },
  {
   "cell_type": "code",
   "execution_count": 1,
   "id": "07d7b0c9",
   "metadata": {
    "execution": {
     "iopub.execute_input": "2023-10-18T12:07:08.844813Z",
     "iopub.status.busy": "2023-10-18T12:07:08.844476Z",
     "iopub.status.idle": "2023-10-18T12:07:08.858220Z",
     "shell.execute_reply": "2023-10-18T12:07:08.857011Z"
    },
    "papermill": {
     "duration": 0.02046,
     "end_time": "2023-10-18T12:07:08.860105",
     "exception": false,
     "start_time": "2023-10-18T12:07:08.839645",
     "status": "completed"
    },
    "tags": []
   },
   "outputs": [
    {
     "name": "stdout",
     "output_type": "stream",
     "text": [
      "{\n",
      "  \"ok\": true,\n",
      "  \"result\": {\n",
      "    \"id\": 6654125182,\n",
      "    \"is_bot\": true,\n",
      "    \"first_name\": \"m42_ebac_bot\",\n",
      "    \"username\": \"m42_pipeline_bot\",\n",
      "    \"can_join_groups\": false,\n",
      "    \"can_read_all_group_messages\": false,\n",
      "    \"supports_inline_queries\": false\n",
      "  }\n",
      "}\n"
     ]
    }
   ],
   "source": [
    "import os\n",
    "import json\n",
    "\n",
    "with open('/kaggle/input/data-getupdates/getMe.json', mode='r', encoding='utf8') as f:\n",
    "    message = json.loads(f.read())\n",
    "    print(json.dumps(\n",
    "        message, indent=2\n",
    "    ))"
   ]
  },
  {
   "cell_type": "markdown",
   "id": "dc2a318e",
   "metadata": {
    "papermill": {
     "duration": 0.003192,
     "end_time": "2023-10-18T12:07:08.866770",
     "exception": false,
     "start_time": "2023-10-18T12:07:08.863578",
     "status": "completed"
    },
    "tags": []
   },
   "source": [
    "No método **getUpdates** temos informações mais relevantes das mensagens. Algumas chaves são **obrigatórias**, por exemplo first_name, is_bot, date, text. Mas, outras chaves são **opcionais** como last_name e username. Com um arquivo JSON de resposta do **getUpdates** armazenado como exemplo, podemos lê-lo para ver seu formato:"
   ]
  },
  {
   "cell_type": "code",
   "execution_count": 2,
   "id": "42e591c3",
   "metadata": {
    "execution": {
     "iopub.execute_input": "2023-10-18T12:07:08.874696Z",
     "iopub.status.busy": "2023-10-18T12:07:08.874354Z",
     "iopub.status.idle": "2023-10-18T12:07:08.885776Z",
     "shell.execute_reply": "2023-10-18T12:07:08.885047Z"
    },
    "papermill": {
     "duration": 0.017634,
     "end_time": "2023-10-18T12:07:08.887642",
     "exception": false,
     "start_time": "2023-10-18T12:07:08.870008",
     "status": "completed"
    },
    "tags": []
   },
   "outputs": [
    {
     "name": "stdout",
     "output_type": "stream",
     "text": [
      "{\n",
      "  \"ok\": true,\n",
      "  \"result\": [\n",
      "    {\n",
      "      \"update_id\": 187921657,\n",
      "      \"message\": {\n",
      "        \"message_id\": 3,\n",
      "        \"from\": {\n",
      "          \"id\": 479372888,\n",
      "          \"is_bot\": false,\n",
      "          \"first_name\": \"Mateus\",\n",
      "          \"last_name\": \"Miguel\",\n",
      "          \"username\": \"mateusmmiguel\"\n",
      "        },\n",
      "        \"chat\": {\n",
      "          \"id\": -4055988830,\n",
      "          \"title\": \"M42 Ebac Group\",\n",
      "          \"type\": \"group\",\n",
      "          \"all_members_are_administrators\": true\n",
      "        },\n",
      "        \"date\": 1697323306,\n",
      "        \"text\": \"Ol\\u00e1, mundo!\"\n",
      "      }\n",
      "    },\n",
      "    {\n",
      "      \"update_id\": 187921658,\n",
      "      \"message\": {\n",
      "        \"message_id\": 4,\n",
      "        \"from\": {\n",
      "          \"id\": 479372888,\n",
      "          \"is_bot\": false,\n",
      "          \"first_name\": \"Mateus\",\n",
      "          \"last_name\": \"Miguel\",\n",
      "          \"username\": \"mateusmmiguel\"\n",
      "        },\n",
      "        \"chat\": {\n",
      "          \"id\": -4055988830,\n",
      "          \"title\": \"M42 Ebac Group\",\n",
      "          \"type\": \"group\",\n",
      "          \"all_members_are_administrators\": true\n",
      "        },\n",
      "        \"date\": 1697325209,\n",
      "        \"text\": \"Tudo bem com voc\\u00ea?\"\n",
      "      }\n",
      "    }\n",
      "  ]\n",
      "}\n"
     ]
    }
   ],
   "source": [
    "with open('/kaggle/input/data-getupdates/telegram.json', mode='r', encoding='utf8') as f:\n",
    "    message = json.loads(f.read())\n",
    "    print(json.dumps(\n",
    "        message, indent=2\n",
    "    ))"
   ]
  },
  {
   "cell_type": "markdown",
   "id": "358a9546",
   "metadata": {
    "papermill": {
     "duration": 0.003278,
     "end_time": "2023-10-18T12:07:08.894540",
     "exception": false,
     "start_time": "2023-10-18T12:07:08.891262",
     "status": "completed"
    },
    "tags": []
   },
   "source": [
    "Como o arquivo JSON é semi-estruturado, a ideia é fazer um *data wrangling* para extrair apenas as informações obrigatórias das mensagens e armazená-las em um formato estruturado, tabular. Com isso, vai ser possível usar o AWS Athena para consultas SQL padronizadas, sobre a tabela 'telegram'. A função *parse_data* é capaz de fazer isto, basicamente percorrendo as chaves e listas "
   ]
  },
  {
   "cell_type": "markdown",
   "id": "aaeeef6b",
   "metadata": {
    "papermill": {
     "duration": 0.003235,
     "end_time": "2023-10-18T12:07:08.901303",
     "exception": false,
     "start_time": "2023-10-18T12:07:08.898068",
     "status": "completed"
    },
    "tags": []
   },
   "source": [
    "```\n",
    "def parse_data(data: dict) -> dict:\n",
    "    # Função que faz o data wrangling dos arquivos JSON\n",
    "    parsed_data = dict()\n",
    "    \n",
    "    for key, value in data.items():\n",
    "        if key == 'from':\n",
    "            for k, v in data[key].items():\n",
    "                if k in ['id', 'is_bot', 'first_name']:\n",
    "                    parsed_data[f'user_{k}'] = [v]\n",
    "        \n",
    "        elif key == 'chat':\n",
    "            for k, v in data[key].items():\n",
    "                if k in ['id', 'type']:\n",
    "                    parsed_data[f'chat_{k}'] = [v]\n",
    "                    \n",
    "        elif key in ['message_id', 'text']:\n",
    "            parsed_data[key] = [value]\n",
    "            \n",
    "        elif key == 'date':\n",
    "            tzinfo = timezone(offset=timedelta(hours=-3))\n",
    "            parsed_data[key] = [value]\n",
    "            parsed_data['timestamp'] = [datetime.fromtimestamp(value, tzinfo).strftime('%Y-%m-%d %H:%M:%S')]\n",
    "            \n",
    "    if not 'text' in parsed_data.keys():\n",
    "        parsed_data['text'] = ['']\n",
    "        \n",
    "    return parsed_data\n",
    "```"
   ]
  },
  {
   "cell_type": "markdown",
   "id": "bcfab610",
   "metadata": {
    "papermill": {
     "duration": 0.003033,
     "end_time": "2023-10-18T12:07:08.907684",
     "exception": false,
     "start_time": "2023-10-18T12:07:08.904651",
     "status": "completed"
    },
    "tags": []
   },
   "source": [
    "## 3.1 - Ingestão\n",
    "\n",
    "### 3.1.1 - AWS API Gateway\n",
    "\n",
    "O serviço em nuvem AWS API Gateway permite a criação de API's de forma escalável. No contexto deste projeto, é preciso conectar a Telegram Bot API com uma REST API criada neste serviço. No momento da implantação, é retornada a variável *aws_api_gateway_url* que contém a URL da REST API. Para conectá-la ao Telegram, é preciso usar o método **setWebhook**, já possuindo a variável *token* do *bot* do Telegram."
   ]
  },
  {
   "cell_type": "markdown",
   "id": "4298a991",
   "metadata": {
    "papermill": {
     "duration": 0.003165,
     "end_time": "2023-10-18T12:07:08.914046",
     "exception": false,
     "start_time": "2023-10-18T12:07:08.910881",
     "status": "completed"
    },
    "tags": []
   },
   "source": [
    "```\n",
    "import json\n",
    "import requests\n",
    "from getpass import getpass\n",
    "\n",
    "token = getpass()\n",
    "base_url = f'https://api.telegram.org/bot{token}'\n",
    "```"
   ]
  },
  {
   "cell_type": "markdown",
   "id": "422f4618",
   "metadata": {
    "papermill": {
     "duration": 0.003051,
     "end_time": "2023-10-18T12:07:08.920324",
     "exception": false,
     "start_time": "2023-10-18T12:07:08.917273",
     "status": "completed"
    },
    "tags": []
   },
   "source": [
    "Então é usado o método \n",
    "\n",
    "`response = requests.get(url=f'{base_url}/setWebhook?url={aws_api_gateway_url}'`\n",
    "\n",
    "Que cria um *webhook* entre as API's e retorna um JSON do formato:"
   ]
  },
  {
   "cell_type": "code",
   "execution_count": 3,
   "id": "8f5b39b5",
   "metadata": {
    "execution": {
     "iopub.execute_input": "2023-10-18T12:07:08.928834Z",
     "iopub.status.busy": "2023-10-18T12:07:08.928275Z",
     "iopub.status.idle": "2023-10-18T12:07:08.937144Z",
     "shell.execute_reply": "2023-10-18T12:07:08.936105Z"
    },
    "papermill": {
     "duration": 0.015266,
     "end_time": "2023-10-18T12:07:08.938953",
     "exception": false,
     "start_time": "2023-10-18T12:07:08.923687",
     "status": "completed"
    },
    "tags": []
   },
   "outputs": [
    {
     "name": "stdout",
     "output_type": "stream",
     "text": [
      "{\n",
      "  \"ok\": true,\n",
      "  \"result\": true,\n",
      "  \"description\": \"Webhook was set\"\n",
      "}\n"
     ]
    }
   ],
   "source": [
    "with open('../input/data-getupdates/setwebhook.json', mode='r', encoding='utf8') as f:\n",
    "    message = json.loads(f.read())\n",
    "    print(json.dumps(\n",
    "        message, indent=2\n",
    "    ))"
   ]
  },
  {
   "cell_type": "markdown",
   "id": "8ff42c8f",
   "metadata": {
    "papermill": {
     "duration": 0.003195,
     "end_time": "2023-10-18T12:07:08.945838",
     "exception": false,
     "start_time": "2023-10-18T12:07:08.942643",
     "status": "completed"
    },
    "tags": []
   },
   "source": [
    "Por fim, o método **getWebhookInfo** permite obter informações sobre o *webhook* criado entre as duas API's. Em específico, retorna informações sobre status, URL e endereço de IP."
   ]
  },
  {
   "cell_type": "code",
   "execution_count": 4,
   "id": "f97b94d4",
   "metadata": {
    "execution": {
     "iopub.execute_input": "2023-10-18T12:07:08.954117Z",
     "iopub.status.busy": "2023-10-18T12:07:08.953613Z",
     "iopub.status.idle": "2023-10-18T12:07:08.962387Z",
     "shell.execute_reply": "2023-10-18T12:07:08.961114Z"
    },
    "papermill": {
     "duration": 0.015219,
     "end_time": "2023-10-18T12:07:08.964255",
     "exception": false,
     "start_time": "2023-10-18T12:07:08.949036",
     "status": "completed"
    },
    "tags": []
   },
   "outputs": [
    {
     "name": "stdout",
     "output_type": "stream",
     "text": [
      "{\n",
      "  \"ok\": true,\n",
      "  \"result\": {\n",
      "    \"url\": \"https://biewk7y6uh.execute-api.sa-east-1.amazonaws.com/dev\",\n",
      "    \"has_custom_certificate\": false,\n",
      "    \"pending_update_count\": 0,\n",
      "    \"max_connections\": 40,\n",
      "    \"ip_address\": \"52.67.105.244\"\n",
      "  }\n",
      "}\n"
     ]
    }
   ],
   "source": [
    "with open('../input/data-getupdates/webhookInfo.json', mode='r', encoding='utf8') as f:\n",
    "    message = json.loads(f.read())\n",
    "    print(json.dumps(\n",
    "        message, indent=2\n",
    "    ))"
   ]
  },
  {
   "cell_type": "markdown",
   "id": "d3f4473a",
   "metadata": {
    "papermill": {
     "duration": 0.003334,
     "end_time": "2023-10-18T12:07:08.971307",
     "exception": false,
     "start_time": "2023-10-18T12:07:08.967973",
     "status": "completed"
    },
    "tags": []
   },
   "source": [
    "### 3.2 - AWS Lambda Raw\n",
    "\n",
    "Com o *webhook* criado, agora os arquivos JSON das mensagens do Telegram são armazenados em um AWS S3 bucket armazenado na variável de ambiente AWS_S3_BUCKET cujo valor é o caminho do bucket respectivo. Outra variável de ambiente é TELEGRAM_CHAT_ID que armazena o id do chat da API, para conferir se os dados estão sendo fornecidos pelo chat correto.\n",
    "\n",
    "Além disso, a biblioteca *datetime* permite colocar os horários no fuso horário local (BRT) pelo uso de *timezone* e *timedelta*, com diferença de -03:00 horas em relação ao UTC. Isso deixa a manipulação de datas adequada aos horários das mensagens como visualizado no grupo do Telegram.\n",
    "\n",
    "Este processo é feito pela seguinte função AWS Lambda:\n",
    "\n",
    "```\n",
    "import os\n",
    "import json\n",
    "import logging\n",
    "from datetime import datetime, timezone, timedelta\n",
    "\n",
    "import boto3\n",
    "\n",
    "def lambda_handler(event: dict, context: dict) -> dict:\n",
    "  \"\"\"\n",
    "  Recebe uma mensagem do Telegram via AWS API Gateway, verifica\n",
    "  se seu conteúdo foi produzido em determinado grupo e escreve\n",
    "  em seu formato original JSON, em um bucket AWS S3\n",
    "  \"\"\"\n",
    "\n",
    "  # variáveis de ambiente\n",
    "\n",
    "  BUCKET = os.environ['AWS_S3_BUCKET']\n",
    "  TELEGRAM_CHAT_ID = int(os.environ['TELEGRAM_CHAT_ID'])\n",
    "\n",
    "  # variáveis lógicas\n",
    "\n",
    "  tzinfo = timezone(offset=timedelta(hours=-3))\n",
    "  date = datetime.now(tzinfo).strftime('%Y-%m-%d')\n",
    "  timestamp = datetime.now(tzinfo).strftime('%Y%m%d%H%M%S%f')\n",
    "\n",
    "  filename = f'{timestamp}.json'\n",
    "\n",
    "  # código principal\n",
    "\n",
    "  client = boto3.client('s3')\n",
    "\n",
    "  try:\n",
    "    message = json.loads(event['body'])\n",
    "    # message = event\n",
    "    chat_id = message['message']['chat']['id']\n",
    "\n",
    "    if chat_id == TELEGRAM_CHAT_ID:\n",
    "      with open(f'/tmp/{filename}', mode='w', encoding='utf8') as f:\n",
    "        json.dump(message, f)\n",
    "      client.upload_file(f'/tmp/{filename}', BUCKET, f'telegram/context_date={date}/{filename}')\n",
    "      \n",
    "  except Exception as exc:\n",
    "    logging.error(msg=exc)\n",
    "    return dict(statusCode='500')\n",
    "    \n",
    "  else:\n",
    "    return dict(statusCode='200')\n",
    "```"
   ]
  },
  {
   "cell_type": "markdown",
   "id": "f6d229ad",
   "metadata": {
    "papermill": {
     "duration": 0.003174,
     "end_time": "2023-10-18T12:07:08.977959",
     "exception": false,
     "start_time": "2023-10-18T12:07:08.974785",
     "status": "completed"
    },
    "tags": []
   },
   "source": [
    "## 3.2 - ETL\n",
    "\n",
    "Nesta etapa, "
   ]
  }
 ],
 "metadata": {
  "kernelspec": {
   "display_name": "Python 3",
   "language": "python",
   "name": "python3"
  },
  "language_info": {
   "codemirror_mode": {
    "name": "ipython",
    "version": 3
   },
   "file_extension": ".py",
   "mimetype": "text/x-python",
   "name": "python",
   "nbconvert_exporter": "python",
   "pygments_lexer": "ipython3",
   "version": "3.10.12"
  },
  "papermill": {
   "default_parameters": {},
   "duration": 3.524167,
   "end_time": "2023-10-18T12:07:09.299857",
   "environment_variables": {},
   "exception": null,
   "input_path": "__notebook__.ipynb",
   "output_path": "__notebook__.ipynb",
   "parameters": {},
   "start_time": "2023-10-18T12:07:05.775690",
   "version": "2.4.0"
  }
 },
 "nbformat": 4,
 "nbformat_minor": 5
}
