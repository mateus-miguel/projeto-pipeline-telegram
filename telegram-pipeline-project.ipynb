{
 "cells": [
  {
   "cell_type": "markdown",
   "id": "b37ba98e",
   "metadata": {
    "papermill": {
     "duration": 0.003142,
     "end_time": "2023-10-17T18:05:00.092835",
     "exception": false,
     "start_time": "2023-10-17T18:05:00.089693",
     "status": "completed"
    },
    "tags": []
   },
   "source": [
    "# Projeto de Pipeline de Dados do Telegram\n",
    "\n",
    "Este projeto visa relacionar o mundo de chatbots em aplicativos como o Telegram com computação em nuvem. No caso, é realizada uma etapa transacional para capturar dados da API do Telegram de bots pelo AWS API Gateway, e a partir disto uma etapa analítica realizada em nuvem na AWS com três etapas: ingestão, ETL e apresentação. Por fim, no AWS Athena são feitas consultas para estimar quantidade de mensagens por dia no grupo do Telegram, quantidade de mensagens por hora e dia da semana, e média de tamanho das mensagens."
   ]
  },
  {
   "cell_type": "markdown",
   "id": "49b42969",
   "metadata": {
    "papermill": {
     "duration": 0.00428,
     "end_time": "2023-10-17T18:05:00.099826",
     "exception": false,
     "start_time": "2023-10-17T18:05:00.095546",
     "status": "completed"
    },
    "tags": []
   },
   "source": [
    "# 1. Análise Exploratória de Dados\n",
    "\n",
    "A Telegram Bot API permite a comunicação de informações de mensagens, usuários e *bots* de um grupo com códigos externos. Existem alguns métodos que podem ser usados no Python para recuperar essas informações em formato JSON. Um deles é o método **getMe** que retorna informações sobre o *bot* do grupo. Já o método **getUpdates** retorna todas as informações com listas das mensagens mandadas em um grupo, disponíveis por até 24 horas. Para o acesso, é necessário um API token relacionado ao *bot*. Isso envolve usar linhas de código do tipo:\n",
    "\n",
    "> base_url = f'https://api.telegram.org/bot{token}'\n",
    "> \n",
    "> response = requests.get(url=f'{base_url}/getMe')\n",
    "\n",
    "onde *token* é o API token do *bot* obtido do Telegram.\n"
   ]
  },
  {
   "cell_type": "code",
   "execution_count": 1,
   "id": "80f53551",
   "metadata": {
    "execution": {
     "iopub.execute_input": "2023-10-17T18:05:00.107038Z",
     "iopub.status.busy": "2023-10-17T18:05:00.106178Z",
     "iopub.status.idle": "2023-10-17T18:05:00.115647Z",
     "shell.execute_reply": "2023-10-17T18:05:00.114572Z"
    },
    "papermill": {
     "duration": 0.015722,
     "end_time": "2023-10-17T18:05:00.117958",
     "exception": false,
     "start_time": "2023-10-17T18:05:00.102236",
     "status": "completed"
    },
    "tags": []
   },
   "outputs": [],
   "source": [
    "import os\n",
    "import json"
   ]
  },
  {
   "cell_type": "code",
   "execution_count": 2,
   "id": "090048cf",
   "metadata": {
    "execution": {
     "iopub.execute_input": "2023-10-17T18:05:00.124770Z",
     "iopub.status.busy": "2023-10-17T18:05:00.124379Z",
     "iopub.status.idle": "2023-10-17T18:05:00.140551Z",
     "shell.execute_reply": "2023-10-17T18:05:00.138767Z"
    },
    "papermill": {
     "duration": 0.02268,
     "end_time": "2023-10-17T18:05:00.143111",
     "exception": false,
     "start_time": "2023-10-17T18:05:00.120431",
     "status": "completed"
    },
    "tags": []
   },
   "outputs": [
    {
     "name": "stdout",
     "output_type": "stream",
     "text": [
      "{\n",
      "  \"ok\": true,\n",
      "  \"result\": {\n",
      "    \"id\": 6654125182,\n",
      "    \"is_bot\": true,\n",
      "    \"first_name\": \"m42_ebac_bot\",\n",
      "    \"username\": \"m42_pipeline_bot\",\n",
      "    \"can_join_groups\": false,\n",
      "    \"can_read_all_group_messages\": false,\n",
      "    \"supports_inline_queries\": false\n",
      "  }\n",
      "}\n"
     ]
    }
   ],
   "source": [
    "with open('/kaggle/input/data-getupdates/getMe.json', mode='r', encoding='utf8') as f:\n",
    "    message = json.loads(f.read())\n",
    "    print(json.dumps(\n",
    "        message, indent=2\n",
    "    ))"
   ]
  },
  {
   "cell_type": "markdown",
   "id": "4b6234b2",
   "metadata": {
    "papermill": {
     "duration": 0.00257,
     "end_time": "2023-10-17T18:05:00.148325",
     "exception": false,
     "start_time": "2023-10-17T18:05:00.145755",
     "status": "completed"
    },
    "tags": []
   },
   "source": [
    "No método **getUpdates** temos informações mais relevantes das mensagens. Algumas chaves são **obrigatórias**, por exemplo first_name, is_bot, date, text. Mas, outras chaves são **opcionais** como last_name e username. Com um arquivo JSON de resposta do **getUpdates** armazenado como exemplo, podemos lê-lo para ver seu formato:"
   ]
  },
  {
   "cell_type": "code",
   "execution_count": 3,
   "id": "d1dc345b",
   "metadata": {
    "execution": {
     "iopub.execute_input": "2023-10-17T18:05:00.155611Z",
     "iopub.status.busy": "2023-10-17T18:05:00.155134Z",
     "iopub.status.idle": "2023-10-17T18:05:00.164544Z",
     "shell.execute_reply": "2023-10-17T18:05:00.163760Z"
    },
    "papermill": {
     "duration": 0.01679,
     "end_time": "2023-10-17T18:05:00.167805",
     "exception": false,
     "start_time": "2023-10-17T18:05:00.151015",
     "status": "completed"
    },
    "tags": []
   },
   "outputs": [
    {
     "name": "stdout",
     "output_type": "stream",
     "text": [
      "{\n",
      "  \"ok\": true,\n",
      "  \"result\": [\n",
      "    {\n",
      "      \"update_id\": 187921657,\n",
      "      \"message\": {\n",
      "        \"message_id\": 3,\n",
      "        \"from\": {\n",
      "          \"id\": 479372888,\n",
      "          \"is_bot\": false,\n",
      "          \"first_name\": \"Mateus\",\n",
      "          \"last_name\": \"Miguel\",\n",
      "          \"username\": \"mateusmmiguel\"\n",
      "        },\n",
      "        \"chat\": {\n",
      "          \"id\": -4055988830,\n",
      "          \"title\": \"M42 Ebac Group\",\n",
      "          \"type\": \"group\",\n",
      "          \"all_members_are_administrators\": true\n",
      "        },\n",
      "        \"date\": 1697323306,\n",
      "        \"text\": \"Ol\\u00e1, mundo!\"\n",
      "      }\n",
      "    },\n",
      "    {\n",
      "      \"update_id\": 187921658,\n",
      "      \"message\": {\n",
      "        \"message_id\": 4,\n",
      "        \"from\": {\n",
      "          \"id\": 479372888,\n",
      "          \"is_bot\": false,\n",
      "          \"first_name\": \"Mateus\",\n",
      "          \"last_name\": \"Miguel\",\n",
      "          \"username\": \"mateusmmiguel\"\n",
      "        },\n",
      "        \"chat\": {\n",
      "          \"id\": -4055988830,\n",
      "          \"title\": \"M42 Ebac Group\",\n",
      "          \"type\": \"group\",\n",
      "          \"all_members_are_administrators\": true\n",
      "        },\n",
      "        \"date\": 1697325209,\n",
      "        \"text\": \"Tudo bem com voc\\u00ea?\"\n",
      "      }\n",
      "    }\n",
      "  ]\n",
      "}\n"
     ]
    }
   ],
   "source": [
    "with open('/kaggle/input/data-getupdates/telegram.json', mode='r', encoding='utf8') as f:\n",
    "    message = json.loads(f.read())\n",
    "    print(json.dumps(\n",
    "        message, indent=2\n",
    "    ))"
   ]
  },
  {
   "cell_type": "markdown",
   "id": "c662dcdb",
   "metadata": {
    "papermill": {
     "duration": 0.002523,
     "end_time": "2023-10-17T18:05:00.173603",
     "exception": false,
     "start_time": "2023-10-17T18:05:00.171080",
     "status": "completed"
    },
    "tags": []
   },
   "source": [
    "Como o arquivo JSON é semi-estruturado, a ideia é fazer um *data wrangling* para extrair apenas as informações obrigatórias das mensagens e armazená-las em um formato estruturado, tabular. Com isso, vai ser possível usar o AWS Athena para consultas SQL padronizadas, sobre a tabela 'telegram'. A função *parse_data* é capaz de fazer isto, basicamente percorrendo as chaves e listas "
   ]
  },
  {
   "cell_type": "code",
   "execution_count": 4,
   "id": "a767a044",
   "metadata": {
    "execution": {
     "iopub.execute_input": "2023-10-17T18:05:00.181961Z",
     "iopub.status.busy": "2023-10-17T18:05:00.180663Z",
     "iopub.status.idle": "2023-10-17T18:05:00.188670Z",
     "shell.execute_reply": "2023-10-17T18:05:00.187850Z"
    },
    "papermill": {
     "duration": 0.014903,
     "end_time": "2023-10-17T18:05:00.191333",
     "exception": false,
     "start_time": "2023-10-17T18:05:00.176430",
     "status": "completed"
    },
    "tags": []
   },
   "outputs": [],
   "source": [
    "def parse_data(data: dict) -> dict:\n",
    "    # Função que faz o data wrangling para ir dos arquivos JSON para o .parquet diário\n",
    "    parsed_data = dict()\n",
    "    \n",
    "    for key, value in data.items():\n",
    "        if key == 'from':\n",
    "            for k, v in data[key].items():\n",
    "                if k in ['id', 'is_bot', 'first_name']:\n",
    "                    parsed_data[f'user_{k}'] = [v]\n",
    "        \n",
    "        elif key == 'chat':\n",
    "            for k, v in data[key].items():\n",
    "                if k in ['id', 'type']:\n",
    "                    parsed_data[f'chat_{k}'] = [v]\n",
    "                    \n",
    "        elif key in ['message_id', 'text']:\n",
    "            parsed_data[key] = [value]\n",
    "            \n",
    "        elif key == 'date':\n",
    "            tzinfo = timezone(offset=timedelta(hours=-3))\n",
    "            parsed_data[key] = [value]\n",
    "            parsed_data['timestamp'] = [datetime.fromtimestamp(value, tzinfo).strftime('%Y-%m-%d %H:%M:%S')]\n",
    "            \n",
    "    if not 'text' in parsed_data.keys():\n",
    "        parsed_data['text'] = ['']\n",
    "        \n",
    "    return parsed_data"
   ]
  }
 ],
 "metadata": {
  "kernelspec": {
   "display_name": "Python 3",
   "language": "python",
   "name": "python3"
  },
  "language_info": {
   "codemirror_mode": {
    "name": "ipython",
    "version": 3
   },
   "file_extension": ".py",
   "mimetype": "text/x-python",
   "name": "python",
   "nbconvert_exporter": "python",
   "pygments_lexer": "ipython3",
   "version": "3.10.12"
  },
  "papermill": {
   "default_parameters": {},
   "duration": 4.459707,
   "end_time": "2023-10-17T18:05:00.715947",
   "environment_variables": {},
   "exception": null,
   "input_path": "__notebook__.ipynb",
   "output_path": "__notebook__.ipynb",
   "parameters": {},
   "start_time": "2023-10-17T18:04:56.256240",
   "version": "2.4.0"
  }
 },
 "nbformat": 4,
 "nbformat_minor": 5
}
